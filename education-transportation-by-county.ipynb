{
 "metadata": {
  "name": "education-transportation-by-county"
 },
 "nbformat": 3,
 "nbformat_minor": 0,
 "worksheets": [
  {
   "cells": [
    {
     "cell_type": "markdown",
     "metadata": {},
     "source": [
      "### only urban counties"
     ]
    },
    {
     "cell_type": "code",
     "collapsed": false,
     "input": [
      "import pandas as pd\n",
      "import pandasjson\n",
      "import itertools"
     ],
     "language": "python",
     "metadata": {},
     "outputs": [],
     "prompt_number": 1
    },
    {
     "cell_type": "code",
     "collapsed": false,
     "input": [
      "filename_prefix = 'education-transportation-by-county/ACS_05_EST_C08117'"
     ],
     "language": "python",
     "metadata": {},
     "outputs": []
    },
    {
     "cell_type": "code",
     "collapsed": false,
     "input": [
      "metadata = pd.read_csv(filename_prefix + '_metadata.csv', names=['col_id', 'col_name'], header=None)\n",
      "metadata = metadata[metadata.col_name.str.startswith('Margin of Error') == False]\n",
      "metadata['col_name'] = metadata.col_name.str.strip('Estaimte;')\n",
      "metadata['col_name'] = metadata.col_name.str.replace(':','').str.strip()"
     ],
     "language": "python",
     "metadata": {},
     "outputs": [],
     "prompt_number": 27
    },
    {
     "cell_type": "code",
     "collapsed": false,
     "input": [
      "education_types = [\n",
      "    'total',\n",
      "    'less than high school',\n",
      "    'high school',\n",
      "    \"some college\",\n",
      "    \"bachelor's\",\n",
      "    \"graduate or professional\"\n",
      "    ]\n",
      "\n",
      "transporation_types = [\n",
      "    'total',\n",
      "    'drove alone',\n",
      "    'carpooled',\n",
      "    'public transportation',\n",
      "    'other',\n",
      "    'wored at home'\n",
      "    ]"
     ],
     "language": "python",
     "metadata": {},
     "outputs": [],
     "prompt_number": 5
    },
    {
     "cell_type": "code",
     "collapsed": false,
     "input": [
      "df = pd.read_csv(filename_prefix + '.csv', dtype={'GEO.id': str, 'GEO.id2': str})\n",
      "df = df[metadata.col_id].rename(columns=metadata.set_index('col_id').col_name)"
     ],
     "language": "python",
     "metadata": {},
     "outputs": [],
     "prompt_number": 6
    },
    {
     "cell_type": "code",
     "collapsed": false,
     "input": [
      "df.columns = pd.MultiIndex.from_tuples(\n",
      "    [('id', 'Id'), ('id', 'Id2'), ('id', 'Geography')] + \\\n",
      "    list(itertools.product(transporation_types, education_types)))"
     ],
     "language": "python",
     "metadata": {},
     "outputs": [],
     "prompt_number": 7
    },
    {
     "cell_type": "code",
     "collapsed": false,
     "input": [
      "df"
     ],
     "language": "python",
     "metadata": {},
     "outputs": [
      {
       "html": [
        "<pre>\n",
        "&lt;class 'pandas.core.frame.DataFrame'&gt;\n",
        "Int64Index: 674 entries, 0 to 673\n",
        "Data columns (total 39 columns):\n",
        "(id, Id)                                             674  non-null values\n",
        "(id, Id2)                                            674  non-null values\n",
        "(id, Geography)                                      674  non-null values\n",
        "(total, total)                                       674  non-null values\n",
        "(total, less than high school)                       674  non-null values\n",
        "(total, high school)                                 674  non-null values\n",
        "(total, some college)                                674  non-null values\n",
        "(total, bachelor's)                                  674  non-null values\n",
        "(total, graduate or professional)                    674  non-null values\n",
        "(drove alone, total)                                 674  non-null values\n",
        "(drove alone, less than high school)                 674  non-null values\n",
        "(drove alone, high school)                           674  non-null values\n",
        "(drove alone, some college)                          674  non-null values\n",
        "(drove alone, bachelor's)                            674  non-null values\n",
        "(drove alone, graduate or professional)              674  non-null values\n",
        "(carpooled, total)                                   674  non-null values\n",
        "(carpooled, less than high school)                   674  non-null values\n",
        "(carpooled, high school)                             674  non-null values\n",
        "(carpooled, some college)                            674  non-null values\n",
        "(carpooled, bachelor's)                              674  non-null values\n",
        "(carpooled, graduate or professional)                674  non-null values\n",
        "(public transportation, total)                       674  non-null values\n",
        "(public transportation, less than high school)       674  non-null values\n",
        "(public transportation, high school)                 674  non-null values\n",
        "(public transportation, some college)                674  non-null values\n",
        "(public transportation, bachelor's)                  674  non-null values\n",
        "(public transportation, graduate or professional)    674  non-null values\n",
        "(other, total)                                       674  non-null values\n",
        "(other, less than high school)                       674  non-null values\n",
        "(other, high school)                                 674  non-null values\n",
        "(other, some college)                                674  non-null values\n",
        "(other, bachelor's)                                  674  non-null values\n",
        "(other, graduate or professional)                    674  non-null values\n",
        "(wored at home, total)                               674  non-null values\n",
        "(wored at home, less than high school)               674  non-null values\n",
        "(wored at home, high school)                         674  non-null values\n",
        "(wored at home, some college)                        674  non-null values\n",
        "(wored at home, bachelor's)                          674  non-null values\n",
        "(wored at home, graduate or professional)            674  non-null values\n",
        "dtypes: int64(36), object(3)\n",
        "</pre>"
       ],
       "output_type": "pyout",
       "prompt_number": 28,
       "text": [
        "<class 'pandas.core.frame.DataFrame'>\n",
        "Int64Index: 674 entries, 0 to 673\n",
        "Data columns (total 39 columns):\n",
        "(id, Id)                                             674  non-null values\n",
        "(id, Id2)                                            674  non-null values\n",
        "(id, Geography)                                      674  non-null values\n",
        "(total, total)                                       674  non-null values\n",
        "(total, less than high school)                       674  non-null values\n",
        "(total, high school)                                 674  non-null values\n",
        "(total, some college)                                674  non-null values\n",
        "(total, bachelor's)                                  674  non-null values\n",
        "(total, graduate or professional)                    674  non-null values\n",
        "(drove alone, total)                                 674  non-null values\n",
        "(drove alone, less than high school)                 674  non-null values\n",
        "(drove alone, high school)                           674  non-null values\n",
        "(drove alone, some college)                          674  non-null values\n",
        "(drove alone, bachelor's)                            674  non-null values\n",
        "(drove alone, graduate or professional)              674  non-null values\n",
        "(carpooled, total)                                   674  non-null values\n",
        "(carpooled, less than high school)                   674  non-null values\n",
        "(carpooled, high school)                             674  non-null values\n",
        "(carpooled, some college)                            674  non-null values\n",
        "(carpooled, bachelor's)                              674  non-null values\n",
        "(carpooled, graduate or professional)                674  non-null values\n",
        "(public transportation, total)                       674  non-null values\n",
        "(public transportation, less than high school)       674  non-null values\n",
        "(public transportation, high school)                 674  non-null values\n",
        "(public transportation, some college)                674  non-null values\n",
        "(public transportation, bachelor's)                  674  non-null values\n",
        "(public transportation, graduate or professional)    674  non-null values\n",
        "(other, total)                                       674  non-null values\n",
        "(other, less than high school)                       674  non-null values\n",
        "(other, high school)                                 674  non-null values\n",
        "(other, some college)                                674  non-null values\n",
        "(other, bachelor's)                                  674  non-null values\n",
        "(other, graduate or professional)                    674  non-null values\n",
        "(wored at home, total)                               674  non-null values\n",
        "(wored at home, less than high school)               674  non-null values\n",
        "(wored at home, high school)                         674  non-null values\n",
        "(wored at home, some college)                        674  non-null values\n",
        "(wored at home, bachelor's)                          674  non-null values\n",
        "(wored at home, graduate or professional)            674  non-null values\n",
        "dtypes: int64(36), object(3)"
       ]
      }
     ],
     "prompt_number": 28
    },
    {
     "cell_type": "code",
     "collapsed": false,
     "input": [
      "percent_graduates = df[[('id', 'Id2'), ('id', 'Geography')]].join(\n",
      "    pd.Series(df[('total', 'graduate or professional')] / df[('total', 'total')].astype(float) * 100, name='percent_graduates')\n",
      "    )\n",
      "percent_graduates.columns = ['id_county', 'county_name', 'percent_graduates']"
     ],
     "language": "python",
     "metadata": {},
     "outputs": [],
     "prompt_number": 8
    },
    {
     "cell_type": "code",
     "collapsed": false,
     "input": [
      "percent_graduates.to_csv('us-counties-graduates.csv', index=False)"
     ],
     "language": "python",
     "metadata": {},
     "outputs": [],
     "prompt_number": 10
    },
    {
     "cell_type": "code",
     "collapsed": false,
     "input": [
      "with open('/Users/adam/design/website-adamgreenhall/public/us-counties-graduates.json', 'w+') as f:\n",
      "    f.write(percent_graduates.set_index('id_county').percent_graduates.to_json('index'))"
     ],
     "language": "python",
     "metadata": {},
     "outputs": [],
     "prompt_number": 23
    },
    {
     "cell_type": "code",
     "collapsed": false,
     "input": [
      "19326 / 6"
     ],
     "language": "python",
     "metadata": {},
     "outputs": [
      {
       "output_type": "pyout",
       "prompt_number": 29,
       "text": [
        "3221"
       ]
      }
     ],
     "prompt_number": 29
    },
    {
     "cell_type": "code",
     "collapsed": false,
     "input": [],
     "language": "python",
     "metadata": {},
     "outputs": []
    }
   ],
   "metadata": {}
  }
 ]
}